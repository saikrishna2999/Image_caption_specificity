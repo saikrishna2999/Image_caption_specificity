{
  "nbformat": 4,
  "nbformat_minor": 0,
  "metadata": {
    "colab": {
      "name": "pytorch.ipynb",
      "provenance": [],
      "collapsed_sections": [],
      "authorship_tag": "ABX9TyNbvIbjPnNTwzKJ7JUq2XX9",
      "include_colab_link": true
    },
    "kernelspec": {
      "name": "python3",
      "display_name": "Python 3"
    }
  },
  "cells": [
    {
      "cell_type": "markdown",
      "metadata": {
        "id": "view-in-github",
        "colab_type": "text"
      },
      "source": [
        "<a href=\"https://colab.research.google.com/github/saikrishna2999/Image_caption_specificity/blob/main/pytorch.ipynb\" target=\"_parent\"><img src=\"https://colab.research.google.com/assets/colab-badge.svg\" alt=\"Open In Colab\"/></a>"
      ]
    },
    {
      "cell_type": "code",
      "metadata": {
        "id": "yndM-18nqOSs"
      },
      "source": [
        "import torch"
      ],
      "execution_count": null,
      "outputs": []
    },
    {
      "cell_type": "code",
      "metadata": {
        "colab": {
          "base_uri": "https://localhost:8080/"
        },
        "id": "W_G-Jwksk8Et",
        "outputId": "e0cc8227-31fa-4874-afcc-8b4441077e3f"
      },
      "source": [
        "x = torch.rand(5, 3)\r\n",
        "print(x)"
      ],
      "execution_count": null,
      "outputs": [
        {
          "output_type": "stream",
          "text": [
            "tensor([[0.9814, 0.5974, 0.6225],\n",
            "        [0.4456, 0.9444, 0.7328],\n",
            "        [0.6389, 0.3332, 0.1475],\n",
            "        [0.2961, 0.4988, 0.6303],\n",
            "        [0.2481, 0.8950, 0.2327]])\n"
          ],
          "name": "stdout"
        }
      ]
    },
    {
      "cell_type": "code",
      "metadata": {
        "colab": {
          "base_uri": "https://localhost:8080/"
        },
        "id": "CRZSYw92_2jJ",
        "outputId": "6858b3f2-dd1b-4f62-aa53-1a61bc6b407a"
      },
      "source": [
        "! mkdir encoder\r\n",
        "! curl -Lo encoder/infersent2.pkl https://dl.fbaipublicfiles.com/infersent/infersent2.pkl\r\n"
      ],
      "execution_count": 2,
      "outputs": [
        {
          "output_type": "stream",
          "text": [
            "  % Total    % Received % Xferd  Average Speed   Time    Time     Time  Current\n",
            "                                 Dload  Upload   Total   Spent    Left  Speed\n",
            "100  146M  100  146M    0     0  23.0M      0  0:00:06  0:00:06 --:--:-- 27.0M\n"
          ],
          "name": "stdout"
        }
      ]
    },
    {
      "cell_type": "code",
      "metadata": {
        "colab": {
          "base_uri": "https://localhost:8080/"
        },
        "id": "L1PRIEiVDeI9",
        "outputId": "d9e72d40-d597-4379-ae36-62f21d9287af"
      },
      "source": [
        "! curl -Lo encoder/infersent1.pkl https://dl.fbaipublicfiles.com/infersent/infersent1.pkl"
      ],
      "execution_count": 3,
      "outputs": [
        {
          "output_type": "stream",
          "text": [
            "  % Total    % Received % Xferd  Average Speed   Time    Time     Time  Current\n",
            "                                 Dload  Upload   Total   Spent    Left  Speed\n",
            "100  146M  100  146M    0     0  23.1M      0  0:00:06  0:00:06 --:--:-- 27.3M\n"
          ],
          "name": "stdout"
        }
      ]
    },
    {
      "cell_type": "code",
      "metadata": {
        "colab": {
          "base_uri": "https://localhost:8080/"
        },
        "id": "PlJicRgXFaKx",
        "outputId": "b9d95fcc-5f05-42bb-c0a3-de4337e58b8c"
      },
      "source": [
        "! mkdir GloVe\r\n",
        "! curl -Lo GloVe/glove.840B.300d.zip http://nlp.stanford.edu/data/glove.840B.300d.zip\r\n",
        "! unzip GloVe/glove.840B.300d.zip -d GloVe/"
      ],
      "execution_count": 5,
      "outputs": [
        {
          "output_type": "stream",
          "text": [
            "  % Total    % Received % Xferd  Average Speed   Time    Time     Time  Current\n",
            "                                 Dload  Upload   Total   Spent    Left  Speed\n",
            "  0   315    0     0    0     0      0      0 --:--:-- --:--:-- --:--:--     0\n",
            "  0   352    0     0    0     0      0      0 --:--:-- --:--:-- --:--:--     0\n",
            "100 2075M  100 2075M    0     0  5105k      0  0:06:56  0:06:56 --:--:-- 4784k\n",
            "Archive:  GloVe/glove.840B.300d.zip\n",
            "  inflating: GloVe/glove.840B.300d.txt  \n"
          ],
          "name": "stdout"
        }
      ]
    },
    {
      "cell_type": "code",
      "metadata": {
        "id": "_OHavnWaEWUk"
      },
      "source": [
        "%load_ext autoreload\r\n",
        "%autoreload 2\r\n",
        "%matplotlib inline\r\n",
        "\r\n",
        "from random import randint\r\n",
        "\r\n",
        "import numpy as np\r\n",
        "import torch"
      ],
      "execution_count": 4,
      "outputs": []
    },
    {
      "cell_type": "code",
      "metadata": {
        "colab": {
          "base_uri": "https://localhost:8080/"
        },
        "id": "pBDCdzVpI7Ek",
        "outputId": "aeb45e40-caef-4529-b1c7-669bf0596ddb"
      },
      "source": [
        "import nltk\r\n",
        "nltk.download('punkt')"
      ],
      "execution_count": 7,
      "outputs": [
        {
          "output_type": "stream",
          "text": [
            "[nltk_data] Downloading package punkt to /root/nltk_data...\n",
            "[nltk_data]   Unzipping tokenizers/punkt.zip.\n"
          ],
          "name": "stdout"
        },
        {
          "output_type": "execute_result",
          "data": {
            "text/plain": [
              "True"
            ]
          },
          "metadata": {
            "tags": []
          },
          "execution_count": 7
        }
      ]
    },
    {
      "cell_type": "code",
      "metadata": {
        "id": "mTwUfks4LR5r"
      },
      "source": [
        "import numpy as np\r\n",
        "import time\r\n",
        "\r\n",
        "import torch\r\n",
        "import torch.nn as nn\r\n",
        "\r\n",
        "\r\n",
        "class InferSent(nn.Module):\r\n",
        "\r\n",
        "    def __init__(self, config):\r\n",
        "        super(InferSent, self).__init__()\r\n",
        "        self.bsize = config['bsize']\r\n",
        "        self.word_emb_dim = config['word_emb_dim']\r\n",
        "        self.enc_lstm_dim = config['enc_lstm_dim']\r\n",
        "        self.pool_type = config['pool_type']\r\n",
        "        self.dpout_model = config['dpout_model']\r\n",
        "        self.version = 1 if 'version' not in config else config['version']\r\n",
        "\r\n",
        "        self.enc_lstm = nn.LSTM(self.word_emb_dim, self.enc_lstm_dim, 1,\r\n",
        "                                bidirectional=True, dropout=self.dpout_model)\r\n",
        "\r\n",
        "        assert self.version in [1, 2]\r\n",
        "        if self.version == 1:\r\n",
        "            self.bos = '<s>'\r\n",
        "            self.eos = '</s>'\r\n",
        "            self.max_pad = True\r\n",
        "            self.moses_tok = False\r\n",
        "        elif self.version == 2:\r\n",
        "            self.bos = '<p>'\r\n",
        "            self.eos = '</p>'\r\n",
        "            self.max_pad = False\r\n",
        "            self.moses_tok = True\r\n",
        "\r\n",
        "    def is_cuda(self):\r\n",
        "        # either all weights are on cpu or they are on gpu\r\n",
        "        return self.enc_lstm.bias_hh_l0.data.is_cuda\r\n",
        "\r\n",
        "    def forward(self, sent_tuple):\r\n",
        "        # sent_len: [max_len, ..., min_len] (bsize)\r\n",
        "        # sent: (seqlen x bsize x worddim)\r\n",
        "        sent, sent_len = sent_tuple\r\n",
        "\r\n",
        "        # Sort by length (keep idx)\r\n",
        "        sent_len_sorted, idx_sort = np.sort(sent_len)[::-1], np.argsort(-sent_len)\r\n",
        "        sent_len_sorted = sent_len_sorted.copy()\r\n",
        "        idx_unsort = np.argsort(idx_sort)\r\n",
        "\r\n",
        "        idx_sort = torch.from_numpy(idx_sort).cuda() if self.is_cuda() \\\r\n",
        "            else torch.from_numpy(idx_sort)\r\n",
        "        sent = sent.index_select(1, idx_sort)\r\n",
        "\r\n",
        "        # Handling padding in Recurrent Networks\r\n",
        "        sent_packed = nn.utils.rnn.pack_padded_sequence(sent, sent_len_sorted)\r\n",
        "        sent_output = self.enc_lstm(sent_packed)[0]  # seqlen x batch x 2*nhid\r\n",
        "        sent_output = nn.utils.rnn.pad_packed_sequence(sent_output)[0]\r\n",
        "\r\n",
        "        # Un-sort by length\r\n",
        "        idx_unsort = torch.from_numpy(idx_unsort).cuda() if self.is_cuda() \\\r\n",
        "            else torch.from_numpy(idx_unsort)\r\n",
        "        sent_output = sent_output.index_select(1, idx_unsort)\r\n",
        "\r\n",
        "        # Pooling\r\n",
        "        if self.pool_type == \"mean\":\r\n",
        "            sent_len = torch.FloatTensor(sent_len.copy()).unsqueeze(1).cuda()\r\n",
        "            emb = torch.sum(sent_output, 0).squeeze(0)\r\n",
        "            emb = emb / sent_len.expand_as(emb)\r\n",
        "        elif self.pool_type == \"max\":\r\n",
        "            if not self.max_pad:\r\n",
        "                sent_output[sent_output == 0] = -1e9\r\n",
        "            emb = torch.max(sent_output, 0)[0]\r\n",
        "            if emb.ndimension() == 3:\r\n",
        "                emb = emb.squeeze(0)\r\n",
        "                assert emb.ndimension() == 2\r\n",
        "\r\n",
        "        return emb\r\n",
        "\r\n",
        "    def set_w2v_path(self, w2v_path):\r\n",
        "        self.w2v_path = w2v_path\r\n",
        "\r\n",
        "    def get_word_dict(self, sentences, tokenize=True):\r\n",
        "        # create vocab of words\r\n",
        "        word_dict = {}\r\n",
        "        sentences = [s.split() if not tokenize else self.tokenize(s) for s in sentences]\r\n",
        "        for sent in sentences:\r\n",
        "            for word in sent:\r\n",
        "                if word not in word_dict:\r\n",
        "                    word_dict[word] = ''\r\n",
        "        word_dict[self.bos] = ''\r\n",
        "        word_dict[self.eos] = ''\r\n",
        "        return word_dict\r\n",
        "\r\n",
        "    def get_w2v(self, word_dict):\r\n",
        "        assert hasattr(self, 'w2v_path'), 'w2v path not set'\r\n",
        "        # create word_vec with w2v vectors\r\n",
        "        word_vec = {}\r\n",
        "        with open(self.w2v_path, encoding='utf-8') as f:\r\n",
        "            for line in f:\r\n",
        "                word, vec = line.split(' ', 1)\r\n",
        "                if word in word_dict:\r\n",
        "                    word_vec[word] = np.fromstring(vec, sep=' ')\r\n",
        "        print('Found %s(/%s) words with w2v vectors' % (len(word_vec), len(word_dict)))\r\n",
        "        return word_vec\r\n",
        "\r\n",
        "    def get_w2v_k(self, K):\r\n",
        "        assert hasattr(self, 'w2v_path'), 'w2v path not set'\r\n",
        "        # create word_vec with k first w2v vectors\r\n",
        "        k = 0\r\n",
        "        word_vec = {}\r\n",
        "        with open(self.w2v_path, encoding='utf-8') as f:\r\n",
        "            for line in f:\r\n",
        "                word, vec = line.split(' ', 1)\r\n",
        "                if k <= K:\r\n",
        "                    word_vec[word] = np.fromstring(vec, sep=' ')\r\n",
        "                    k += 1\r\n",
        "                if k > K:\r\n",
        "                    if word in [self.bos, self.eos]:\r\n",
        "                        word_vec[word] = np.fromstring(vec, sep=' ')\r\n",
        "\r\n",
        "                if k > K and all([w in word_vec for w in [self.bos, self.eos]]):\r\n",
        "                    break\r\n",
        "        return word_vec\r\n",
        "\r\n",
        "    def build_vocab(self, sentences, tokenize=True):\r\n",
        "        assert hasattr(self, 'w2v_path'), 'w2v path not set'\r\n",
        "        word_dict = self.get_word_dict(sentences, tokenize)\r\n",
        "        self.word_vec = self.get_w2v(word_dict)\r\n",
        "        print('Vocab size : %s' % (len(self.word_vec)))\r\n",
        "\r\n",
        "    # build w2v vocab with k most frequent words\r\n",
        "    def build_vocab_k_words(self, K):\r\n",
        "        assert hasattr(self, 'w2v_path'), 'w2v path not set'\r\n",
        "        self.word_vec = self.get_w2v_k(K)\r\n",
        "        print('Vocab size : %s' % (K))\r\n",
        "\r\n",
        "    def update_vocab(self, sentences, tokenize=True):\r\n",
        "        assert hasattr(self, 'w2v_path'), 'warning : w2v path not set'\r\n",
        "        assert hasattr(self, 'word_vec'), 'build_vocab before updating it'\r\n",
        "        word_dict = self.get_word_dict(sentences, tokenize)\r\n",
        "\r\n",
        "        # keep only new words\r\n",
        "        for word in self.word_vec:\r\n",
        "            if word in word_dict:\r\n",
        "                del word_dict[word]\r\n",
        "\r\n",
        "        # udpate vocabulary\r\n",
        "        if word_dict:\r\n",
        "            new_word_vec = self.get_w2v(word_dict)\r\n",
        "            self.word_vec.update(new_word_vec)\r\n",
        "        else:\r\n",
        "            new_word_vec = []\r\n",
        "        print('New vocab size : %s (added %s words)'% (len(self.word_vec), len(new_word_vec)))\r\n",
        "\r\n",
        "    def get_batch(self, batch):\r\n",
        "        # sent in batch in decreasing order of lengths\r\n",
        "        # batch: (bsize, max_len, word_dim)\r\n",
        "        embed = np.zeros((len(batch[0]), len(batch), self.word_emb_dim))\r\n",
        "\r\n",
        "        for i in range(len(batch)):\r\n",
        "            for j in range(len(batch[i])):\r\n",
        "                embed[j, i, :] = self.word_vec[batch[i][j]]\r\n",
        "\r\n",
        "        return torch.FloatTensor(embed)\r\n",
        "\r\n",
        "    def tokenize(self, s):\r\n",
        "        from nltk.tokenize import word_tokenize\r\n",
        "        if self.moses_tok:\r\n",
        "            s = ' '.join(word_tokenize(s))\r\n",
        "            s = s.replace(\" n't \", \"n 't \")  # HACK to get ~MOSES tokenization\r\n",
        "            return s.split()\r\n",
        "        else:\r\n",
        "            return word_tokenize(s)\r\n",
        "\r\n",
        "    def prepare_samples(self, sentences, bsize, tokenize, verbose):\r\n",
        "        sentences = [[self.bos] + s.split() + [self.eos] if not tokenize else\r\n",
        "                     [self.bos] + self.tokenize(s) + [self.eos] for s in sentences]\r\n",
        "        n_w = np.sum([len(x) for x in sentences])\r\n",
        "\r\n",
        "        # filters words without w2v vectors\r\n",
        "        for i in range(len(sentences)):\r\n",
        "            s_f = [word for word in sentences[i] if word in self.word_vec]\r\n",
        "            if not s_f:\r\n",
        "                import warnings\r\n",
        "                warnings.warn('No words in \"%s\" (idx=%s) have w2v vectors. \\\r\n",
        "                               Replacing by \"</s>\"..' % (sentences[i], i))\r\n",
        "                s_f = [self.eos]\r\n",
        "            sentences[i] = s_f\r\n",
        "\r\n",
        "        lengths = np.array([len(s) for s in sentences])\r\n",
        "        n_wk = np.sum(lengths)\r\n",
        "        if verbose:\r\n",
        "            print('Nb words kept : %s/%s (%.1f%s)' % (\r\n",
        "                        n_wk, n_w, 100.0 * n_wk / n_w, '%'))\r\n",
        "\r\n",
        "        # sort by decreasing length\r\n",
        "        lengths, idx_sort = np.sort(lengths)[::-1], np.argsort(-lengths)\r\n",
        "        sentences = np.array(sentences)[idx_sort]\r\n",
        "\r\n",
        "        return sentences, lengths, idx_sort\r\n",
        "\r\n",
        "    def encode(self, sentences, bsize=64, tokenize=True, verbose=False):\r\n",
        "        tic = time.time()\r\n",
        "        sentences, lengths, idx_sort = self.prepare_samples(\r\n",
        "                        sentences, bsize, tokenize, verbose)\r\n",
        "\r\n",
        "        embeddings = []\r\n",
        "        for stidx in range(0, len(sentences), bsize):\r\n",
        "            batch = self.get_batch(sentences[stidx:stidx + bsize])\r\n",
        "            if self.is_cuda():\r\n",
        "                batch = batch.cuda()\r\n",
        "            with torch.no_grad():\r\n",
        "                batch = self.forward((batch, lengths[stidx:stidx + bsize])).data.cpu().numpy()\r\n",
        "            embeddings.append(batch)\r\n",
        "        embeddings = np.vstack(embeddings)\r\n",
        "\r\n",
        "        # unsort\r\n",
        "        idx_unsort = np.argsort(idx_sort)\r\n",
        "        embeddings = embeddings[idx_unsort]\r\n",
        "\r\n",
        "        if verbose:\r\n",
        "            print('Speed : %.1f sentences/s (%s mode, bsize=%s)' % (\r\n",
        "                    len(embeddings)/(time.time()-tic),\r\n",
        "                    'gpu' if self.is_cuda() else 'cpu', bsize))\r\n",
        "        return embeddings\r\n",
        "\r\n",
        "    def visualize(self, sent, tokenize=True):\r\n",
        "\r\n",
        "        sent = sent.split() if not tokenize else self.tokenize(sent)\r\n",
        "        sent = [[self.bos] + [word for word in sent if word in self.word_vec] + [self.eos]]\r\n",
        "\r\n",
        "        if ' '.join(sent[0]) == '%s %s' % (self.bos, self.eos):\r\n",
        "            import warnings\r\n",
        "            warnings.warn('No words in \"%s\" have w2v vectors. Replacing \\\r\n",
        "                           by \"%s %s\"..' % (sent, self.bos, self.eos))\r\n",
        "        batch = self.get_batch(sent)\r\n",
        "\r\n",
        "        if self.is_cuda():\r\n",
        "            batch = batch.cuda()\r\n",
        "        output = self.enc_lstm(batch)[0]\r\n",
        "        output, idxs = torch.max(output, 0)\r\n",
        "        # output, idxs = output.squeeze(), idxs.squeeze()\r\n",
        "        idxs = idxs.data.cpu().numpy()\r\n",
        "        argmaxs = [np.sum((idxs == k)) for k in range(len(sent[0]))]\r\n",
        "\r\n",
        "        # visualize model\r\n",
        "        import matplotlib.pyplot as plt\r\n",
        "        x = range(len(sent[0]))\r\n",
        "        y = [100.0 * n / np.sum(argmaxs) for n in argmaxs]\r\n",
        "        plt.xticks(x, sent[0], rotation=45)\r\n",
        "        plt.bar(x, y)\r\n",
        "        plt.ylabel('%')\r\n",
        "        plt.title('Visualisation of words importance')\r\n",
        "        plt.show()\r\n",
        "\r\n",
        "        return output, idxs"
      ],
      "execution_count": 8,
      "outputs": []
    },
    {
      "cell_type": "code",
      "metadata": {
        "colab": {
          "base_uri": "https://localhost:8080/"
        },
        "id": "KHSYl4rjE_GC",
        "outputId": "6f69b0ff-fb33-4a0e-a9ef-50a2d7e0b5c1"
      },
      "source": [
        "\r\n",
        "model_version = 1\r\n",
        "MODEL_PATH = \"encoder/infersent%s.pkl\" % model_version\r\n",
        "params_model = {'bsize': 64, 'word_emb_dim': 300, 'enc_lstm_dim': 2048,\r\n",
        "                'pool_type': 'max', 'dpout_model': 0.0, 'version': model_version}\r\n",
        "model = InferSent(params_model)\r\n",
        "model.load_state_dict(torch.load(MODEL_PATH))"
      ],
      "execution_count": 9,
      "outputs": [
        {
          "output_type": "execute_result",
          "data": {
            "text/plain": [
              "<All keys matched successfully>"
            ]
          },
          "metadata": {
            "tags": []
          },
          "execution_count": 9
        }
      ]
    },
    {
      "cell_type": "code",
      "metadata": {
        "id": "v0oQjXp9I1Kg"
      },
      "source": [
        "use_cuda = False\r\n",
        "model = model.cuda() if use_cuda else model"
      ],
      "execution_count": 10,
      "outputs": []
    },
    {
      "cell_type": "code",
      "metadata": {
        "id": "SdfCeM8tLe-x"
      },
      "source": [
        "W2V_PATH = 'GloVe/glove.840B.300d.txt' if model_version == 1 else 'fastText/crawl-300d-2M.vec'\r\n",
        "model.set_w2v_path(W2V_PATH)"
      ],
      "execution_count": 11,
      "outputs": []
    },
    {
      "cell_type": "code",
      "metadata": {
        "colab": {
          "base_uri": "https://localhost:8080/"
        },
        "id": "YYgOpPpYLiaQ",
        "outputId": "25ac18c3-d4ce-4f84-9356-8c84ba6e4885"
      },
      "source": [
        "model.build_vocab_k_words(K=100000)\r\n"
      ],
      "execution_count": 12,
      "outputs": [
        {
          "output_type": "stream",
          "text": [
            "Vocab size : 100000\n"
          ],
          "name": "stdout"
        }
      ]
    },
    {
      "cell_type": "code",
      "metadata": {
        "colab": {
          "base_uri": "https://localhost:8080/"
        },
        "id": "6bM3VwcoLk6_",
        "outputId": "2f9c6044-d3a0-480c-b638-6223e03bb3af"
      },
      "source": [
        "\r\n",
        "# Load some sentences\r\n",
        "sentences = []\r\n",
        "with open('/content/samples.txt') as f:\r\n",
        "    for line in f:\r\n",
        "        sentences.append(line.strip())\r\n",
        "print(len(sentences))"
      ],
      "execution_count": 13,
      "outputs": [
        {
          "output_type": "stream",
          "text": [
            "9815\n"
          ],
          "name": "stdout"
        }
      ]
    },
    {
      "cell_type": "code",
      "metadata": {
        "colab": {
          "base_uri": "https://localhost:8080/"
        },
        "id": "90mhynDbM6Lo",
        "outputId": "22235622-8fca-4c84-f229-729d66527075"
      },
      "source": [
        "sentences[:5]"
      ],
      "execution_count": 14,
      "outputs": [
        {
          "output_type": "execute_result",
          "data": {
            "text/plain": [
              "['Everyone really likes the newest benefits',\n",
              " 'The Government Executive articles housed on the website are not able to be searched .',\n",
              " 'I like him for the most part , but would still enjoy seeing someone beat him .',\n",
              " 'My favorite restaurants are always at least a hundred miles away from my house .',\n",
              " 'I know exactly .']"
            ]
          },
          "metadata": {
            "tags": []
          },
          "execution_count": 14
        }
      ]
    },
    {
      "cell_type": "code",
      "metadata": {
        "colab": {
          "base_uri": "https://localhost:8080/"
        },
        "id": "NE3rF4O8M80B",
        "outputId": "020ca496-a18b-46fa-b875-29ab559e61e6"
      },
      "source": [
        "\r\n",
        "embeddings = model.encode(sentences, bsize=128, tokenize=False, verbose=True)\r\n",
        "print('nb sentences encoded : {0}'.format(len(embeddings)))"
      ],
      "execution_count": 15,
      "outputs": [
        {
          "output_type": "stream",
          "text": [
            "Nb words kept : 128201/130068 (98.6%)\n"
          ],
          "name": "stdout"
        },
        {
          "output_type": "stream",
          "text": [
            "/usr/local/lib/python3.7/dist-packages/ipykernel_launcher.py:193: VisibleDeprecationWarning: Creating an ndarray from ragged nested sequences (which is a list-or-tuple of lists-or-tuples-or ndarrays with different lengths or shapes) is deprecated. If you meant to do this, you must specify 'dtype=object' when creating the ndarray\n"
          ],
          "name": "stderr"
        },
        {
          "output_type": "stream",
          "text": [
            "Speed : 45.6 sentences/s (cpu mode, bsize=128)\n",
            "nb sentences encoded : 9815\n"
          ],
          "name": "stdout"
        }
      ]
    },
    {
      "cell_type": "code",
      "metadata": {
        "colab": {
          "base_uri": "https://localhost:8080/"
        },
        "id": "pE_S5WwkNFgD",
        "outputId": "22ff0bfd-4bd4-4c6c-9a2a-335814cac6b0"
      },
      "source": [
        "np.linalg.norm(model.encode(['the cat eats.']))"
      ],
      "execution_count": 16,
      "outputs": [
        {
          "output_type": "execute_result",
          "data": {
            "text/plain": [
              "3.5349097"
            ]
          },
          "metadata": {
            "tags": []
          },
          "execution_count": 16
        }
      ]
    },
    {
      "cell_type": "code",
      "metadata": {
        "id": "KJeXipQCR0vz"
      },
      "source": [
        "#@title Give me a name {display-mode: \"form\"}\n",
        "\n",
        "# This code will be hidden when the notebook is loaded.\n"
      ],
      "execution_count": null,
      "outputs": []
    },
    {
      "cell_type": "code",
      "metadata": {
        "id": "SeV5njUVQlAO"
      },
      "source": [
        "def cosine(u, v):\r\n",
        "    return np.dot(u, v) / (np.linalg.norm(u) * np.linalg.norm(v))"
      ],
      "execution_count": 17,
      "outputs": []
    },
    {
      "cell_type": "code",
      "metadata": {
        "colab": {
          "base_uri": "https://localhost:8080/"
        },
        "id": "6aM30GuDQn4j",
        "outputId": "2b06d6da-596b-4b55-f21d-8507e77dfc4a"
      },
      "source": [
        "cosine(model.encode(['the cat eats.'])[0], model.encode(['the cat drinks.'])[0])"
      ],
      "execution_count": 18,
      "outputs": [
        {
          "output_type": "execute_result",
          "data": {
            "text/plain": [
              "0.816524"
            ]
          },
          "metadata": {
            "tags": []
          },
          "execution_count": 18
        }
      ]
    },
    {
      "cell_type": "code",
      "metadata": {
        "colab": {
          "base_uri": "https://localhost:8080/",
          "height": 310
        },
        "id": "QvlhK7shQ1T0",
        "outputId": "55d066f7-18a4-4ab6-a85a-944d0d30590d"
      },
      "source": [
        "idx = randint(0, len(sentences))\r\n",
        "_, _ = model.visualize(sentences[idx])"
      ],
      "execution_count": 19,
      "outputs": [
        {
          "output_type": "display_data",
          "data": {
            "image/png": "[encoded data removed]",
            "text/plain": [
              "<Figure size 432x288 with 1 Axes>"
            ]
          },
          "metadata": {
            "tags": [],
            "needs_background": "light"
          }
        }
      ]
    },
    {
      "cell_type": "code",
      "metadata": {
        "colab": {
          "base_uri": "https://localhost:8080/",
          "height": 307
        },
        "id": "r4-3HekjQ4Dr",
        "outputId": "7dcbbc9e-0eae-4933-97bb-91f0843473a8"
      },
      "source": [
        "\r\n",
        "my_sent = 'The cat is drinking milk.'\r\n",
        "_, _ = model.visualize(my_sent)"
      ],
      "execution_count": 20,
      "outputs": [
        {
          "output_type": "display_data",
          "data": {
            "image/png": "[encoded data removed]",
            "text/plain": [
              "<Figure size 432x288 with 1 Axes>"
            ]
          },
          "metadata": {
            "tags": [],
            "needs_background": "light"
          }
        }
      ]
    },
    {
      "cell_type": "code",
      "metadata": {
        "colab": {
          "base_uri": "https://localhost:8080/",
          "height": 346
        },
        "id": "vUtyd2dCQ6vP",
        "outputId": "c38f6609-6a7f-40ee-ccc7-15dfeb025b45"
      },
      "source": [
        "model.build_vocab_k_words(500000) # getting 500K words vocab\r\n",
        "my_sent = 'barack-obama is the former president of the United-States.'\r\n",
        "_, _ = model.visualize(my_sent)"
      ],
      "execution_count": 21,
      "outputs": [
        {
          "output_type": "stream",
          "text": [
            "Vocab size : 500000\n"
          ],
          "name": "stdout"
        },
        {
          "output_type": "display_data",
          "data": {
            "image/png": "[encoded data removed]",
            "text/plain": [
              "<Figure size 432x288 with 1 Axes>"
            ]
          },
          "metadata": {
            "tags": [],
            "needs_background": "light"
          }
        }
      ]
    },
    {
      "cell_type": "code",
      "metadata": {
        "id": "yGgubTeRQ9q5"
      },
      "source": [
        ""
      ],
      "execution_count": null,
      "outputs": []
    }
  ]
}